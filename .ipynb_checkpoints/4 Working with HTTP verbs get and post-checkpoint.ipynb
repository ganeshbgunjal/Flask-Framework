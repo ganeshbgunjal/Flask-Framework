{
 "cells": [
  {
   "cell_type": "markdown",
   "id": "52063638-73d4-42cd-8c33-cb9752af4900",
   "metadata": {},
   "source": [
    "#### Code for this file is done in getpost.py file. code executed from that file in vscode. will paste this code here later after completion."
   ]
  },
  {
   "cell_type": "code",
   "execution_count": null,
   "id": "3198476e-1ea6-4caf-a70b-74744de2deac",
   "metadata": {},
   "outputs": [],
   "source": [
    "from flask import Flask, render_template, request\n",
    "\n",
    "'''\n",
    "It creates an instance of the flask app. \n",
    "which will be your WSGI (web server gateway interface) application.\n",
    "'''\n",
    "\n",
    "#### WSGI application:-\n",
    "app = Flask(__name__)\n",
    "\n",
    "@app.route(\"/\")\n",
    "def welcome():\n",
    "    return '''<html><H1>Welcome to this Data Scientist course!</H1></html>\\\n",
    "            <html><H2>Become a Pro Data Scientist!</H2></html>'''\n",
    "\n",
    "@app.route(\"/index\",methods=['GET'])\n",
    "def index():\n",
    "    return render_template('index.html')\n",
    "\n",
    "@app.route('/about')\n",
    "def about():\n",
    "    return render_template('about.html')\n",
    "\n",
    "@app.route('/form',methods=['GET','POST'])\n",
    "def form():\n",
    "    if request.method=='POST':\n",
    "        name = request.form['name']\n",
    "        return f'Hello {name}!'\n",
    "    return render_template('form.html')\n",
    "\n",
    "\n",
    "if __name__ == '__main__':     # This is the entry point of any .py file.\n",
    "    app.run(debug=True)                   # to run app\n",
    "\n"
   ]
  },
  {
   "cell_type": "markdown",
   "id": "f6fcdc45-b204-466f-96e4-faf4bb86ea90",
   "metadata": {},
   "source": [
    "#### Also we created form.html file and there we create simple form that takes name as a input and returns it on the web browser. see folder of flask and you will understand. code is done in vscode and also excuted there. this file is for undertanding only what we did. and also to show all the content of the course. that wht this files are created in this folder. code is done and executed in vscode."
   ]
  },
  {
   "cell_type": "code",
   "execution_count": null,
   "id": "47847035-6792-473a-91d0-64eaa77b5265",
   "metadata": {},
   "outputs": [],
   "source": []
  }
 ],
 "metadata": {
  "kernelspec": {
   "display_name": "Python 3 (ipykernel)",
   "language": "python",
   "name": "python3"
  },
  "language_info": {
   "codemirror_mode": {
    "name": "ipython",
    "version": 3
   },
   "file_extension": ".py",
   "mimetype": "text/x-python",
   "name": "python",
   "nbconvert_exporter": "python",
   "pygments_lexer": "ipython3",
   "version": "3.13.5"
  }
 },
 "nbformat": 4,
 "nbformat_minor": 5
}
