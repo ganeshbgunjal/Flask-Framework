{
 "cells": [
  {
   "cell_type": "markdown",
   "id": "b62e0104-4cf5-4cec-9112-e7ec54eb0e4b",
   "metadata": {},
   "source": [
    "#### we did code in main.py file also. check that also. that code is just pasted in this file but run using vscode and python main.py  \n",
    "after that we create about.html and integrates it with file. pasting code from vscode main.py file. we ran code there.   \n",
    "here we have to follow 3 files:  \n",
    "1. main.py file\n",
    "2. about us file.\n",
    "3. index.html file.\n",
    "   and so on."
   ]
  },
  {
   "cell_type": "markdown",
   "id": "880a1908-00dd-46c0-a430-ba7cdb79aa94",
   "metadata": {},
   "source": [
    "### Main.py file code:"
   ]
  },
  {
   "cell_type": "code",
   "execution_count": null,
   "id": "aa54e2b1-987d-409a-996c-b17e2c5ecc92",
   "metadata": {},
   "outputs": [],
   "source": [
    "from flask import Flask, render_template\n",
    "\n",
    "'''\n",
    "It creates an instance of the flask app. \n",
    "which will be your WSGI (web server gateway interface) application.\n",
    "'''\n",
    "\n",
    "#### WSGI application:-\n",
    "app = Flask(__name__)\n",
    "\n",
    "@app.route(\"/\")\n",
    "def welcome():\n",
    "    return '''<html><H1>Welcome to this Data Scientist course!</H1></html>\\\n",
    "            <html><H2>Become a Pro Data Scientist!</H2></html>'''\n",
    "\n",
    "@app.route(\"/index\")\n",
    "def index():\n",
    "    return render_template('index.html')\n",
    "\n",
    "@app.route('/about')\n",
    "def about():\n",
    "    return render_template('about.html')\n",
    "\n",
    "\n",
    "if __name__ == '__main__':     # This is the entry point of any .py file.\n",
    "    app.run(debug=True)                   # to run app\n",
    "\n"
   ]
  },
  {
   "cell_type": "markdown",
   "id": "e99a32fb-2512-4caf-b999-d49d0a51a7db",
   "metadata": {},
   "source": [
    "### index.html code:"
   ]
  },
  {
   "cell_type": "code",
   "execution_count": null,
   "id": "e119fc23-6d33-4475-8265-9d6546a37248",
   "metadata": {},
   "outputs": [],
   "source": [
    "<!DOCTYPE html>\n",
    "<html lan=\"en\">\n",
    "<head>\n",
    "    <meta charset=\"UTF-8\">\n",
    "    <title>Flask App</title>\n",
    "</head>\n",
    "<body>\n",
    "    <h1>Welcome to my flask app!</h1>\n",
    "    <p>This is a simple web application built with flask</p>\n",
    "</body>\n",
    "</html>"
   ]
  },
  {
   "cell_type": "markdown",
   "id": "33b59a25-9bb7-4d22-be1f-2e3096f47fdb",
   "metadata": {},
   "source": [
    "### about us file code:"
   ]
  },
  {
   "cell_type": "code",
   "execution_count": null,
   "id": "031e4ca9-274e-408b-b7f2-01ce6f0cdd30",
   "metadata": {},
   "outputs": [],
   "source": [
    "<!DOCTYPE html>\n",
    "<html lan=\"en\">\n",
    "<head>\n",
    "    <meta charset=\"UTF-8\">\n",
    "    <title>About - Data Science Course</title>\n",
    "</head>\n",
    "<body>\n",
    "    <h1>About This Course</h1>\n",
    "    <p>Welcome to the Data Science course! This course is designed to take you from the basics of Python programming all the way to advanced topics like machine learning and deep learning.</p>\n",
    "\n",
    "    <p>Throughout the course, you will learn:</p>\n",
    "     <ul>\n",
    "        <li>Python programming and data handling</li>\n",
    "        <li>Working with SQL databases</li>\n",
    "        <li>Statistics and probability for data science</li>\n",
    "        <li>Machine learning algorithms</li>\n",
    "        <li>Deep learning and neural networks</li>\n",
    "     </ul>\n",
    "     <ol>\n",
    "        <li>Python programming and data handling</li>\n",
    "        <li>Working with SQL databases</li>\n",
    "        <li>Statistics and probability for data science</li>\n",
    "        <li>Machine learning algorithms</li>\n",
    "        <li>Deep learning and neural networks</li>\n",
    "     </ol>\n",
    "</body>\n",
    "</html>"
   ]
  },
  {
   "cell_type": "markdown",
   "id": "9cb0b6df-f5d4-4032-8ad4-55137b57b912",
   "metadata": {},
   "source": [
    "#### Thats all with this video of integrating html file with flask web app:"
   ]
  },
  {
   "cell_type": "markdown",
   "id": "78d4b2cf-929e-4d7d-be8f-e0c243723215",
   "metadata": {},
   "source": [
    "Above code is ran in vscode. here not tried to ran. no need to run here. "
   ]
  },
  {
   "cell_type": "code",
   "execution_count": null,
   "id": "a5f3d6a8-4a4b-4678-8ece-7dacbc46ab5f",
   "metadata": {},
   "outputs": [],
   "source": []
  }
 ],
 "metadata": {
  "kernelspec": {
   "display_name": "Python 3 (ipykernel)",
   "language": "python",
   "name": "python3"
  },
  "language_info": {
   "codemirror_mode": {
    "name": "ipython",
    "version": 3
   },
   "file_extension": ".py",
   "mimetype": "text/x-python",
   "name": "python",
   "nbconvert_exporter": "python",
   "pygments_lexer": "ipython3",
   "version": "3.13.5"
  }
 },
 "nbformat": 4,
 "nbformat_minor": 5
}
