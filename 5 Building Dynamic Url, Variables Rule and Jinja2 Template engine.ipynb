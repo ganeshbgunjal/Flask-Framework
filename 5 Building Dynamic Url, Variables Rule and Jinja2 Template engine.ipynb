{
 "cells": [
  {
   "cell_type": "markdown",
   "id": "482f67d6-2756-470a-ba64-e9dd9177163c",
   "metadata": {},
   "source": [
    "### Building Dynamic Url,Variable Rule and Jinja2 Template engine:--"
   ]
  },
  {
   "cell_type": "code",
   "execution_count": null,
   "id": "ecc7b7ef-0974-4aa2-a98c-537121efe49c",
   "metadata": {},
   "outputs": [],
   "source": []
  }
 ],
 "metadata": {
  "kernelspec": {
   "display_name": "Python 3 (ipykernel)",
   "language": "python",
   "name": "python3"
  },
  "language_info": {
   "codemirror_mode": {
    "name": "ipython",
    "version": 3
   },
   "file_extension": ".py",
   "mimetype": "text/x-python",
   "name": "python",
   "nbconvert_exporter": "python",
   "pygments_lexer": "ipython3",
   "version": "3.13.5"
  }
 },
 "nbformat": 4,
 "nbformat_minor": 5
}
