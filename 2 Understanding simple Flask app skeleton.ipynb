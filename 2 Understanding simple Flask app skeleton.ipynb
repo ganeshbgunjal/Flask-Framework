{
 "cells": [
  {
   "cell_type": "code",
   "execution_count": 1,
   "id": "268d4379-3c39-47ce-822c-32d6172cd94e",
   "metadata": {},
   "outputs": [
    {
     "name": "stdout",
     "output_type": "stream",
     "text": [
      "Requirement already satisfied: flask in c:\\users\\administrator\\anaconda3\\lib\\site-packages (3.1.0)\n",
      "Requirement already satisfied: Werkzeug>=3.1 in c:\\users\\administrator\\anaconda3\\lib\\site-packages (from flask) (3.1.3)\n",
      "Requirement already satisfied: Jinja2>=3.1.2 in c:\\users\\administrator\\anaconda3\\lib\\site-packages (from flask) (3.1.6)\n",
      "Requirement already satisfied: itsdangerous>=2.2 in c:\\users\\administrator\\anaconda3\\lib\\site-packages (from flask) (2.2.0)\n",
      "Requirement already satisfied: click>=8.1.3 in c:\\users\\administrator\\anaconda3\\lib\\site-packages (from flask) (8.1.8)\n",
      "Requirement already satisfied: blinker>=1.9 in c:\\users\\administrator\\anaconda3\\lib\\site-packages (from flask) (1.9.0)\n",
      "Requirement already satisfied: colorama in c:\\users\\administrator\\anaconda3\\lib\\site-packages (from click>=8.1.3->flask) (0.4.6)\n",
      "Requirement already satisfied: MarkupSafe>=2.0 in c:\\users\\administrator\\anaconda3\\lib\\site-packages (from Jinja2>=3.1.2->flask) (3.0.2)\n"
     ]
    }
   ],
   "source": [
    "!pip install flask"
   ]
  },
  {
   "cell_type": "code",
   "execution_count": 2,
   "id": "2d676572-4b8d-4250-8d57-638af23be64e",
   "metadata": {},
   "outputs": [
    {
     "name": "stdout",
     "output_type": "stream",
     "text": [
      " * Serving Flask app '__main__'\n",
      " * Debug mode: on\n"
     ]
    },
    {
     "name": "stderr",
     "output_type": "stream",
     "text": [
      "WARNING: This is a development server. Do not use it in a production deployment. Use a production WSGI server instead.\n",
      " * Running on http://127.0.0.1:5000\n",
      "Press CTRL+C to quit\n",
      " * Restarting with watchdog (windowsapi)\n"
     ]
    },
    {
     "ename": "SystemExit",
     "evalue": "1",
     "output_type": "error",
     "traceback": [
      "An exception has occurred, use %tb to see the full traceback.\n",
      "\u001b[1;31mSystemExit\u001b[0m\u001b[1;31m:\u001b[0m 1\n"
     ]
    },
    {
     "name": "stderr",
     "output_type": "stream",
     "text": [
      "C:\\Users\\Administrator\\anaconda3\\Lib\\site-packages\\IPython\\core\\interactiveshell.py:3585: UserWarning: To exit: use 'exit', 'quit', or Ctrl-D.\n",
      "  warn(\"To exit: use 'exit', 'quit', or Ctrl-D.\", stacklevel=1)\n"
     ]
    }
   ],
   "source": [
    "from flask import Flask\n",
    "\n",
    "'''\n",
    "It creates an instance of the flask app. \n",
    "which will be your WSGI (web server gateway interface) application.\n",
    "'''\n",
    "\n",
    "#### WSGI application:-\n",
    "app = Flask(__name__)\n",
    "\n",
    "@app.route(\"/\")\n",
    "def welcome():\n",
    "    return 'Welcome to Flask tutorial!.\\n This is an amazing and best course to become Data scientist!'\n",
    "\n",
    "@app.route(\"/index\")\n",
    "def index():\n",
    "    return 'Welcome to the Index page!'\n",
    "\n",
    "@app.route('/notification')\n",
    "def notification():\n",
    "    return 'You have 4 Notifications!'\n",
    "\n",
    "\n",
    "if __name__ == '__main__':     # This is the entry point of any .py file.\n",
    "    app.run(debug=True)                   # to run app\n",
    "\n"
   ]
  },
  {
   "cell_type": "markdown",
   "id": "2d87e12d-b0ea-49a3-8302-8755222a81ff",
   "metadata": {},
   "source": [
    "i do this code in vscode and ran there only. dont use this. it may create problem here. "
   ]
  },
  {
   "cell_type": "code",
   "execution_count": null,
   "id": "e91a42c4-c89d-422c-a52a-d1c060baf337",
   "metadata": {},
   "outputs": [],
   "source": []
  }
 ],
 "metadata": {
  "kernelspec": {
   "display_name": "Python 3 (ipykernel)",
   "language": "python",
   "name": "python3"
  },
  "language_info": {
   "codemirror_mode": {
    "name": "ipython",
    "version": 3
   },
   "file_extension": ".py",
   "mimetype": "text/x-python",
   "name": "python",
   "nbconvert_exporter": "python",
   "pygments_lexer": "ipython3",
   "version": "3.13.5"
  }
 },
 "nbformat": 4,
 "nbformat_minor": 5
}
