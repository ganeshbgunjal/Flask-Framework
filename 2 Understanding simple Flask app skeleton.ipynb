{
 "cells": [
  {
   "cell_type": "code",
   "execution_count": null,
   "id": "268d4379-3c39-47ce-822c-32d6172cd94e",
   "metadata": {},
   "outputs": [],
   "source": []
  }
 ],
 "metadata": {
  "kernelspec": {
   "display_name": "",
   "name": ""
  },
  "language_info": {
   "name": ""
  }
 },
 "nbformat": 4,
 "nbformat_minor": 5
}
