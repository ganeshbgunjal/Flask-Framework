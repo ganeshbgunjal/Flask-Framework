{
 "cells": [
  {
   "cell_type": "markdown",
   "id": "8b4e607d-eeca-4436-b0f6-8d0aaa4427b5",
   "metadata": {},
   "source": [
    "In this tutoial, we leanrt what is Flask frame. What are the uses of it.   \n",
    "It follows the WSGI protocal.   \n",
    "**WSGI:-- web server gateway interface**"
   ]
  },
  {
   "cell_type": "markdown",
   "id": "39a17e6e-db33-430f-8f4d-4fd92ed09c8b",
   "metadata": {},
   "source": [
    "its for developing and deploying end to end applications. when we request something to server. server communicates with webapp and gets particular feedback. then it return that feedback to user according to the request like home page or notifications etc."
   ]
  },
  {
   "cell_type": "markdown",
   "id": "d93ddcff-684f-47c2-8a69-a410b4381bb8",
   "metadata": {},
   "source": [
    "Examples like: \n",
    "1. ML model where we can indentify cat or dog.\n",
    "2. Login form. where we fill name and password. it checks into data source and returns to server with login message if match found."
   ]
  },
  {
   "cell_type": "code",
   "execution_count": null,
   "id": "3b0ed4cd-6d7d-407f-bdbe-40de5ed2582d",
   "metadata": {},
   "outputs": [],
   "source": []
  }
 ],
 "metadata": {
  "kernelspec": {
   "display_name": "Python 3 (ipykernel)",
   "language": "python",
   "name": "python3"
  },
  "language_info": {
   "codemirror_mode": {
    "name": "ipython",
    "version": 3
   },
   "file_extension": ".py",
   "mimetype": "text/x-python",
   "name": "python",
   "nbconvert_exporter": "python",
   "pygments_lexer": "ipython3",
   "version": "3.13.5"
  }
 },
 "nbformat": 4,
 "nbformat_minor": 5
}
