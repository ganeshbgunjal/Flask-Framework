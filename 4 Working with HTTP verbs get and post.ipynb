{
 "cells": [
  {
   "cell_type": "markdown",
   "id": "52063638-73d4-42cd-8c33-cb9752af4900",
   "metadata": {},
   "source": [
    "#### Code for this file is done in getpost.py file. code executed from that file in vscode. will paste this code here later after completion."
   ]
  },
  {
   "cell_type": "code",
   "execution_count": null,
   "id": "3198476e-1ea6-4caf-a70b-74744de2deac",
   "metadata": {},
   "outputs": [],
   "source": []
  }
 ],
 "metadata": {
  "kernelspec": {
   "display_name": "Python 3 (ipykernel)",
   "language": "python",
   "name": "python3"
  },
  "language_info": {
   "codemirror_mode": {
    "name": "ipython",
    "version": 3
   },
   "file_extension": ".py",
   "mimetype": "text/x-python",
   "name": "python",
   "nbconvert_exporter": "python",
   "pygments_lexer": "ipython3",
   "version": "3.13.5"
  }
 },
 "nbformat": 4,
 "nbformat_minor": 5
}
